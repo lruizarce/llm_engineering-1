{
 "cells": [
  {
   "cell_type": "markdown",
   "id": "fe12c203-e6a6-452c-a655-afb8a03a4ff5",
   "metadata": {},
   "source": [
    "# End of week 1 exercise\n",
    "\n",
    "To demonstrate your familiarity with OpenAI API, and also Ollama, build a tool that takes a technical question,  \n",
    "and responds with an explanation. This is a tool that you will be able to use yourself during the course!\n"
   ]
  },
  {
   "cell_type": "code",
   "execution_count": 19,
   "id": "c1070317-3ed9-4659-abe3-828943230e03",
   "metadata": {},
   "outputs": [],
   "source": [
    "import os\n",
    "import requests\n",
    "import json\n",
    "from typing import List\n",
    "from dotenv import load_dotenv\n",
    "from bs4 import BeautifulSoup\n",
    "from IPython.display import Markdown, display, update_display\n",
    "from openai import OpenAI\n",
    "import pandas as pd"
   ]
  },
  {
   "cell_type": "code",
   "execution_count": 2,
   "id": "4a456906-915a-4bfd-bb9d-57e505c5093f",
   "metadata": {},
   "outputs": [],
   "source": [
    "# constants\n",
    "\n",
    "MODEL_GPT = 'gpt-4o-mini'\n",
    "MODEL_LLAMA = 'llama3.2'"
   ]
  },
  {
   "cell_type": "code",
   "execution_count": 4,
   "id": "a8d7923c-5f28-4c30-8556-342d7c8497c1",
   "metadata": {},
   "outputs": [],
   "source": [
    "# set up environment\n",
    "api_key = os.getenv(\"OPENAI_API_KEY\")\n",
    "openai = OpenAI()"
   ]
  },
  {
   "cell_type": "code",
   "execution_count": 7,
   "id": "3f0d0137-52b0-47a8-81a8-11a90a010798",
   "metadata": {},
   "outputs": [],
   "source": [
    "# here is the question; type over this to ask something new\n",
    "\n",
    "question = \"\"\"\n",
    "Please explain what this code does and why:\n",
    "yield from {book.get(\"author\") for book in books if book.get(\"author\")}\n",
    "\"\"\""
   ]
  },
  {
   "cell_type": "code",
   "execution_count": 8,
   "id": "60ce7000-a4a5-4cce-a261-e75ef45063b4",
   "metadata": {},
   "outputs": [
    {
     "name": "stdout",
     "output_type": "stream",
     "text": [
      "Certainly! The code snippet you've provided uses a generator expression to yield unique authors from a collection of books. Let's break it down step-by-step:\n",
      "\n",
      "1. **Set Comprehension**: The expression `{book.get(\"author\") for book in books if book.get(\"author\")}` is a set comprehension that constructs a set of authors. Here's how it works:\n",
      "   - `for book in books`: This iterates over each `book` in the `books` iterable (which is presumably a list of dictionaries representing books).\n",
      "   - `book.get(\"author\")`: This retrieves the value associated with the key `\"author\"` from each `book` dictionary.\n",
      "   - `if book.get(\"author\")`: This condition checks that the author exists and is not `None` (i.e., it filters out books that do not have an author defined).\n",
      "\n",
      "2. **Unique Authors**: By using a set comprehension, it automatically ensures that each author is included only once in the resulting set, even if multiple books have the same author.\n",
      "\n",
      "3. **Yielding Results**: The `yield from` statement is used to yield all the values produced by the set comprehension one at a time. This means the unique authors are provided as if they are being returned from a generator function.\n",
      "\n",
      "So, overall, this line of code extracts authors from a list of book dictionaries, filters out any that are missing, deduplicates them by storing them in a set, and then yields each unique author, one by one.\n",
      "\n",
      "### Why Use This Code:\n",
      "- **Efficiency**: By using a set, it avoids duplicates inherently and can be more efficient than appending authors to a list and then reducing the list to unique items afterward.\n",
      "- **Readable**: The use of a generator with `yield from` makes it clear that authors are being produced lazily, which can be more memory-efficient, particularly if the number of books is large.\n",
      "- **Concise**: Combining set comprehension with conditional filtering in one line keeps the code compact and expressive.\n",
      "\n",
      "In summary, this code is an effective way to extract and yield unique authors from a collection of book data.\n"
     ]
    }
   ],
   "source": [
    "# Get gpt-4o-mini to answer, with streaming\n",
    "streaming = openai.chat.completions.create(\n",
    "    model = MODEL_GPT,\n",
    "    messages= [\n",
    "        {'role': 'system', 'content': question}\n",
    "    ],\n",
    "    stream=True\n",
    "    \n",
    ")\n",
    "\n",
    "output = ''\n",
    "\n",
    "for chunk in streaming:\n",
    "    output += chunk.choices[0].delta.content or \"\"\n",
    "\n",
    "print(output)"
   ]
  },
  {
   "cell_type": "code",
   "execution_count": 20,
   "id": "8f7c8ea8-4082-4ad0-8751-3301adcf6538",
   "metadata": {},
   "outputs": [],
   "source": [
    "def fetch_ipo(url:str):\n",
    "    try:\n",
    "        response = requests.get(url)\n",
    "        response.raise_for_status()\n",
    "        \n",
    "        tables = pd.read_html(response.text)\n",
    "        if tables:\n",
    "            ipo_data = tables[0]\n",
    "            return ipo_data\n",
    "        else:\n",
    "            print(\"No tables found\")\n",
    "            return None\n",
    "    except requests.exceptions.RequestException as e:\n",
    "        print(f\"Error fetching data: {e}\")\n",
    "        return None\n",
    "        "
   ]
  },
  {
   "cell_type": "code",
   "execution_count": 21,
   "id": "cc8d9281",
   "metadata": {},
   "outputs": [
    {
     "name": "stderr",
     "output_type": "stream",
     "text": [
      "/tmp/ipykernel_16630/2527331526.py:6: FutureWarning: Passing literal html to 'read_html' is deprecated and will be removed in a future version. To read from a literal string, wrap it in a 'StringIO' object.\n",
      "  tables = pd.read_html(response.text)\n"
     ]
    },
    {
     "ename": "ValueError",
     "evalue": "No tables found",
     "output_type": "error",
     "traceback": [
      "\u001b[0;31m---------------------------------------------------------------------------\u001b[0m",
      "\u001b[0;31mValueError\u001b[0m                                Traceback (most recent call last)",
      "Cell \u001b[0;32mIn[21], line 1\u001b[0m\n\u001b[0;32m----> 1\u001b[0m biotech \u001b[38;5;241m=\u001b[39m \u001b[43mfetch_ipo\u001b[49m\u001b[43m(\u001b[49m\u001b[38;5;124;43m'\u001b[39;49m\u001b[38;5;124;43mhttps://www.biopharmadive.com/news/biotech-ipo-performance-tracker/587604/\u001b[39;49m\u001b[38;5;124;43m'\u001b[39;49m\u001b[43m)\u001b[49m\n",
      "Cell \u001b[0;32mIn[20], line 6\u001b[0m, in \u001b[0;36mfetch_ipo\u001b[0;34m(url)\u001b[0m\n\u001b[1;32m      3\u001b[0m response \u001b[38;5;241m=\u001b[39m requests\u001b[38;5;241m.\u001b[39mget(url)\n\u001b[1;32m      4\u001b[0m response\u001b[38;5;241m.\u001b[39mraise_for_status()\n\u001b[0;32m----> 6\u001b[0m tables \u001b[38;5;241m=\u001b[39m \u001b[43mpd\u001b[49m\u001b[38;5;241;43m.\u001b[39;49m\u001b[43mread_html\u001b[49m\u001b[43m(\u001b[49m\u001b[43mresponse\u001b[49m\u001b[38;5;241;43m.\u001b[39;49m\u001b[43mtext\u001b[49m\u001b[43m)\u001b[49m\n\u001b[1;32m      7\u001b[0m \u001b[38;5;28;01mif\u001b[39;00m tables:\n\u001b[1;32m      8\u001b[0m     ipo_data \u001b[38;5;241m=\u001b[39m tables[\u001b[38;5;241m0\u001b[39m]\n",
      "File \u001b[0;32m~/anaconda3/envs/llm_udemy/lib/python3.9/site-packages/pandas/io/html.py:1240\u001b[0m, in \u001b[0;36mread_html\u001b[0;34m(io, match, flavor, header, index_col, skiprows, attrs, parse_dates, thousands, encoding, decimal, converters, na_values, keep_default_na, displayed_only, extract_links, dtype_backend, storage_options)\u001b[0m\n\u001b[1;32m   1224\u001b[0m \u001b[38;5;28;01mif\u001b[39;00m \u001b[38;5;28misinstance\u001b[39m(io, \u001b[38;5;28mstr\u001b[39m) \u001b[38;5;129;01mand\u001b[39;00m \u001b[38;5;129;01mnot\u001b[39;00m \u001b[38;5;28many\u001b[39m(\n\u001b[1;32m   1225\u001b[0m     [\n\u001b[1;32m   1226\u001b[0m         is_file_like(io),\n\u001b[0;32m   (...)\u001b[0m\n\u001b[1;32m   1230\u001b[0m     ]\n\u001b[1;32m   1231\u001b[0m ):\n\u001b[1;32m   1232\u001b[0m     warnings\u001b[38;5;241m.\u001b[39mwarn(\n\u001b[1;32m   1233\u001b[0m         \u001b[38;5;124m\"\u001b[39m\u001b[38;5;124mPassing literal html to \u001b[39m\u001b[38;5;124m'\u001b[39m\u001b[38;5;124mread_html\u001b[39m\u001b[38;5;124m'\u001b[39m\u001b[38;5;124m is deprecated and \u001b[39m\u001b[38;5;124m\"\u001b[39m\n\u001b[1;32m   1234\u001b[0m         \u001b[38;5;124m\"\u001b[39m\u001b[38;5;124mwill be removed in a future version. To read from a \u001b[39m\u001b[38;5;124m\"\u001b[39m\n\u001b[0;32m   (...)\u001b[0m\n\u001b[1;32m   1237\u001b[0m         stacklevel\u001b[38;5;241m=\u001b[39mfind_stack_level(),\n\u001b[1;32m   1238\u001b[0m     )\n\u001b[0;32m-> 1240\u001b[0m \u001b[38;5;28;01mreturn\u001b[39;00m \u001b[43m_parse\u001b[49m\u001b[43m(\u001b[49m\n\u001b[1;32m   1241\u001b[0m \u001b[43m    \u001b[49m\u001b[43mflavor\u001b[49m\u001b[38;5;241;43m=\u001b[39;49m\u001b[43mflavor\u001b[49m\u001b[43m,\u001b[49m\n\u001b[1;32m   1242\u001b[0m \u001b[43m    \u001b[49m\u001b[43mio\u001b[49m\u001b[38;5;241;43m=\u001b[39;49m\u001b[43mio\u001b[49m\u001b[43m,\u001b[49m\n\u001b[1;32m   1243\u001b[0m \u001b[43m    \u001b[49m\u001b[43mmatch\u001b[49m\u001b[38;5;241;43m=\u001b[39;49m\u001b[43mmatch\u001b[49m\u001b[43m,\u001b[49m\n\u001b[1;32m   1244\u001b[0m \u001b[43m    \u001b[49m\u001b[43mheader\u001b[49m\u001b[38;5;241;43m=\u001b[39;49m\u001b[43mheader\u001b[49m\u001b[43m,\u001b[49m\n\u001b[1;32m   1245\u001b[0m \u001b[43m    \u001b[49m\u001b[43mindex_col\u001b[49m\u001b[38;5;241;43m=\u001b[39;49m\u001b[43mindex_col\u001b[49m\u001b[43m,\u001b[49m\n\u001b[1;32m   1246\u001b[0m \u001b[43m    \u001b[49m\u001b[43mskiprows\u001b[49m\u001b[38;5;241;43m=\u001b[39;49m\u001b[43mskiprows\u001b[49m\u001b[43m,\u001b[49m\n\u001b[1;32m   1247\u001b[0m \u001b[43m    \u001b[49m\u001b[43mparse_dates\u001b[49m\u001b[38;5;241;43m=\u001b[39;49m\u001b[43mparse_dates\u001b[49m\u001b[43m,\u001b[49m\n\u001b[1;32m   1248\u001b[0m \u001b[43m    \u001b[49m\u001b[43mthousands\u001b[49m\u001b[38;5;241;43m=\u001b[39;49m\u001b[43mthousands\u001b[49m\u001b[43m,\u001b[49m\n\u001b[1;32m   1249\u001b[0m \u001b[43m    \u001b[49m\u001b[43mattrs\u001b[49m\u001b[38;5;241;43m=\u001b[39;49m\u001b[43mattrs\u001b[49m\u001b[43m,\u001b[49m\n\u001b[1;32m   1250\u001b[0m \u001b[43m    \u001b[49m\u001b[43mencoding\u001b[49m\u001b[38;5;241;43m=\u001b[39;49m\u001b[43mencoding\u001b[49m\u001b[43m,\u001b[49m\n\u001b[1;32m   1251\u001b[0m \u001b[43m    \u001b[49m\u001b[43mdecimal\u001b[49m\u001b[38;5;241;43m=\u001b[39;49m\u001b[43mdecimal\u001b[49m\u001b[43m,\u001b[49m\n\u001b[1;32m   1252\u001b[0m \u001b[43m    \u001b[49m\u001b[43mconverters\u001b[49m\u001b[38;5;241;43m=\u001b[39;49m\u001b[43mconverters\u001b[49m\u001b[43m,\u001b[49m\n\u001b[1;32m   1253\u001b[0m \u001b[43m    \u001b[49m\u001b[43mna_values\u001b[49m\u001b[38;5;241;43m=\u001b[39;49m\u001b[43mna_values\u001b[49m\u001b[43m,\u001b[49m\n\u001b[1;32m   1254\u001b[0m \u001b[43m    \u001b[49m\u001b[43mkeep_default_na\u001b[49m\u001b[38;5;241;43m=\u001b[39;49m\u001b[43mkeep_default_na\u001b[49m\u001b[43m,\u001b[49m\n\u001b[1;32m   1255\u001b[0m \u001b[43m    \u001b[49m\u001b[43mdisplayed_only\u001b[49m\u001b[38;5;241;43m=\u001b[39;49m\u001b[43mdisplayed_only\u001b[49m\u001b[43m,\u001b[49m\n\u001b[1;32m   1256\u001b[0m \u001b[43m    \u001b[49m\u001b[43mextract_links\u001b[49m\u001b[38;5;241;43m=\u001b[39;49m\u001b[43mextract_links\u001b[49m\u001b[43m,\u001b[49m\n\u001b[1;32m   1257\u001b[0m \u001b[43m    \u001b[49m\u001b[43mdtype_backend\u001b[49m\u001b[38;5;241;43m=\u001b[39;49m\u001b[43mdtype_backend\u001b[49m\u001b[43m,\u001b[49m\n\u001b[1;32m   1258\u001b[0m \u001b[43m    \u001b[49m\u001b[43mstorage_options\u001b[49m\u001b[38;5;241;43m=\u001b[39;49m\u001b[43mstorage_options\u001b[49m\u001b[43m,\u001b[49m\n\u001b[1;32m   1259\u001b[0m \u001b[43m\u001b[49m\u001b[43m)\u001b[49m\n",
      "File \u001b[0;32m~/anaconda3/envs/llm_udemy/lib/python3.9/site-packages/pandas/io/html.py:1003\u001b[0m, in \u001b[0;36m_parse\u001b[0;34m(flavor, io, match, attrs, encoding, displayed_only, extract_links, storage_options, **kwargs)\u001b[0m\n\u001b[1;32m   1001\u001b[0m \u001b[38;5;28;01melse\u001b[39;00m:\n\u001b[1;32m   1002\u001b[0m     \u001b[38;5;28;01massert\u001b[39;00m retained \u001b[38;5;129;01mis\u001b[39;00m \u001b[38;5;129;01mnot\u001b[39;00m \u001b[38;5;28;01mNone\u001b[39;00m  \u001b[38;5;66;03m# for mypy\u001b[39;00m\n\u001b[0;32m-> 1003\u001b[0m     \u001b[38;5;28;01mraise\u001b[39;00m retained\n\u001b[1;32m   1005\u001b[0m ret \u001b[38;5;241m=\u001b[39m []\n\u001b[1;32m   1006\u001b[0m \u001b[38;5;28;01mfor\u001b[39;00m table \u001b[38;5;129;01min\u001b[39;00m tables:\n",
      "File \u001b[0;32m~/anaconda3/envs/llm_udemy/lib/python3.9/site-packages/pandas/io/html.py:983\u001b[0m, in \u001b[0;36m_parse\u001b[0;34m(flavor, io, match, attrs, encoding, displayed_only, extract_links, storage_options, **kwargs)\u001b[0m\n\u001b[1;32m    972\u001b[0m p \u001b[38;5;241m=\u001b[39m parser(\n\u001b[1;32m    973\u001b[0m     io,\n\u001b[1;32m    974\u001b[0m     compiled_match,\n\u001b[0;32m   (...)\u001b[0m\n\u001b[1;32m    979\u001b[0m     storage_options,\n\u001b[1;32m    980\u001b[0m )\n\u001b[1;32m    982\u001b[0m \u001b[38;5;28;01mtry\u001b[39;00m:\n\u001b[0;32m--> 983\u001b[0m     tables \u001b[38;5;241m=\u001b[39m \u001b[43mp\u001b[49m\u001b[38;5;241;43m.\u001b[39;49m\u001b[43mparse_tables\u001b[49m\u001b[43m(\u001b[49m\u001b[43m)\u001b[49m\n\u001b[1;32m    984\u001b[0m \u001b[38;5;28;01mexcept\u001b[39;00m \u001b[38;5;167;01mValueError\u001b[39;00m \u001b[38;5;28;01mas\u001b[39;00m caught:\n\u001b[1;32m    985\u001b[0m     \u001b[38;5;66;03m# if `io` is an io-like object, check if it's seekable\u001b[39;00m\n\u001b[1;32m    986\u001b[0m     \u001b[38;5;66;03m# and try to rewind it before trying the next parser\u001b[39;00m\n\u001b[1;32m    987\u001b[0m     \u001b[38;5;28;01mif\u001b[39;00m \u001b[38;5;28mhasattr\u001b[39m(io, \u001b[38;5;124m\"\u001b[39m\u001b[38;5;124mseekable\u001b[39m\u001b[38;5;124m\"\u001b[39m) \u001b[38;5;129;01mand\u001b[39;00m io\u001b[38;5;241m.\u001b[39mseekable():\n",
      "File \u001b[0;32m~/anaconda3/envs/llm_udemy/lib/python3.9/site-packages/pandas/io/html.py:249\u001b[0m, in \u001b[0;36m_HtmlFrameParser.parse_tables\u001b[0;34m(self)\u001b[0m\n\u001b[1;32m    241\u001b[0m \u001b[38;5;28;01mdef\u001b[39;00m\u001b[38;5;250m \u001b[39m\u001b[38;5;21mparse_tables\u001b[39m(\u001b[38;5;28mself\u001b[39m):\n\u001b[1;32m    242\u001b[0m \u001b[38;5;250m    \u001b[39m\u001b[38;5;124;03m\"\"\"\u001b[39;00m\n\u001b[1;32m    243\u001b[0m \u001b[38;5;124;03m    Parse and return all tables from the DOM.\u001b[39;00m\n\u001b[1;32m    244\u001b[0m \n\u001b[0;32m   (...)\u001b[0m\n\u001b[1;32m    247\u001b[0m \u001b[38;5;124;03m    list of parsed (header, body, footer) tuples from tables.\u001b[39;00m\n\u001b[1;32m    248\u001b[0m \u001b[38;5;124;03m    \"\"\"\u001b[39;00m\n\u001b[0;32m--> 249\u001b[0m     tables \u001b[38;5;241m=\u001b[39m \u001b[38;5;28;43mself\u001b[39;49m\u001b[38;5;241;43m.\u001b[39;49m\u001b[43m_parse_tables\u001b[49m\u001b[43m(\u001b[49m\u001b[38;5;28;43mself\u001b[39;49m\u001b[38;5;241;43m.\u001b[39;49m\u001b[43m_build_doc\u001b[49m\u001b[43m(\u001b[49m\u001b[43m)\u001b[49m\u001b[43m,\u001b[49m\u001b[43m \u001b[49m\u001b[38;5;28;43mself\u001b[39;49m\u001b[38;5;241;43m.\u001b[39;49m\u001b[43mmatch\u001b[49m\u001b[43m,\u001b[49m\u001b[43m \u001b[49m\u001b[38;5;28;43mself\u001b[39;49m\u001b[38;5;241;43m.\u001b[39;49m\u001b[43mattrs\u001b[49m\u001b[43m)\u001b[49m\n\u001b[1;32m    250\u001b[0m     \u001b[38;5;28;01mreturn\u001b[39;00m (\u001b[38;5;28mself\u001b[39m\u001b[38;5;241m.\u001b[39m_parse_thead_tbody_tfoot(table) \u001b[38;5;28;01mfor\u001b[39;00m table \u001b[38;5;129;01min\u001b[39;00m tables)\n",
      "File \u001b[0;32m~/anaconda3/envs/llm_udemy/lib/python3.9/site-packages/pandas/io/html.py:598\u001b[0m, in \u001b[0;36m_BeautifulSoupHtml5LibFrameParser._parse_tables\u001b[0;34m(self, document, match, attrs)\u001b[0m\n\u001b[1;32m    596\u001b[0m tables \u001b[38;5;241m=\u001b[39m document\u001b[38;5;241m.\u001b[39mfind_all(element_name, attrs\u001b[38;5;241m=\u001b[39mattrs)\n\u001b[1;32m    597\u001b[0m \u001b[38;5;28;01mif\u001b[39;00m \u001b[38;5;129;01mnot\u001b[39;00m tables:\n\u001b[0;32m--> 598\u001b[0m     \u001b[38;5;28;01mraise\u001b[39;00m \u001b[38;5;167;01mValueError\u001b[39;00m(\u001b[38;5;124m\"\u001b[39m\u001b[38;5;124mNo tables found\u001b[39m\u001b[38;5;124m\"\u001b[39m)\n\u001b[1;32m    600\u001b[0m result \u001b[38;5;241m=\u001b[39m []\n\u001b[1;32m    601\u001b[0m unique_tables \u001b[38;5;241m=\u001b[39m \u001b[38;5;28mset\u001b[39m()\n",
      "\u001b[0;31mValueError\u001b[0m: No tables found"
     ]
    }
   ],
   "source": [
    "biotech = fetch_ipo('https://www.biopharmadive.com/news/biotech-ipo-performance-tracker/587604/')"
   ]
  },
  {
   "cell_type": "code",
   "execution_count": null,
   "id": "e50ec7b6",
   "metadata": {},
   "outputs": [
    {
     "data": {
      "text/plain": [
       "['#skip-link-target',\n",
       " 'https://www.techtarget.com/terms-of-use/',\n",
       " 'https://www.techtarget.com/privacy-policy/',\n",
       " '/',\n",
       " '/deep-dive/',\n",
       " '/library/',\n",
       " '/events/',\n",
       " '/press-release/',\n",
       " '/signup/?signup_location=header',\n",
       " '/signup/?signup_location=header',\n",
       " '/topic/pharma/',\n",
       " '/topic/biotech/',\n",
       " '/topic/fda/',\n",
       " '/topic/clinical-trials/',\n",
       " '/topic/deals/',\n",
       " '/topic/drug-pricing/',\n",
       " '/topic/gene-therapy/',\n",
       " 'https://www.biopharmadive.com/editors/bfidler/',\n",
       " 'https://www.biopharmadive.com/editors/gwu/',\n",
       " '/cdn-cgi/l/email-protection#8babe9e2e4fbe3eaf9e6eaa5efe2fdeea5eeefe2ffe4f9f8cbe2e5effef8fff9f2efe2fdeea5e8e4e6',\n",
       " 'https://www.biopharmadive.com/news/biotech-startup-private-acquisitions-pharma-2024/721981/',\n",
       " 'https://www.biopharmadive.com/news/bio-2024-venture-funding-biotech-ipos/718119/',\n",
       " 'https://www.biopharmadive.com/news/kyverna-ipo-biotech-investors-peter-maag/707075/',\n",
       " 'https://industrydive.design/about/kendall/',\n",
       " 'http://www.linkedin.com/shareArticle?mini=true&url=https%3A//www.biopharmadive.com/news/biotech-ipo-performance-tracker/587604/&title=Biotech%20IPOs%20are%20the%20industry%E2%80%99s%20lifeblood.%20Track%20how%20they%E2%80%99re%20performing.',\n",
       " 'https://www.facebook.com/sharer/sharer.php?u=https%3A//www.biopharmadive.com/news/biotech-ipo-performance-tracker/587604/',\n",
       " 'https://twitter.com/intent/tweet?text=Biotech%20IPOs%20are%20the%20industry%E2%80%99s%20lifeblood.%20Track%20how%20they%E2%80%99re%20performing.%20https%3A//www.biopharmadive.com/news/biotech-ipo-performance-tracker/587604/%20via%20@BioPharmaDive',\n",
       " 'javascript:window.print()',\n",
       " '/cdn-cgi/l/email-protection#96a9c5e3f4fcf3f5e2abd4fff9e2f3f5feb3a4a6dfc6d9e5b3a4a6f7e4f3b3a4a6e2fef3b3a4a6fff8f2e3e5e2e4efb3d3a4b3aea6b3afafe5b3a4a6fafff0f3f4faf9f9f2b8b3a4a6c2e4f7f5fdb3a4a6fef9e1b3a4a6e2fef3efb3d3a4b3aea6b3afafe4f3b3a4a6e6f3e4f0f9e4fbfff8f1b8b0f7fbe6add4f9f2efabfee2e2e6e5b3a5d7b9b9e1e1e1b8f4fff9e6fef7e4fbf7f2ffe0f3b8f5f9fbb9f8f3e1e5b9f4fff9e2f3f5febbffe6f9bbe6f3e4f0f9e4fbf7f8f5f3bbe2e4f7f5fdf3e4b9a3aea1a0a6a2b9',\n",
       " '/selfservice/article-licensing/submit/?newspostUrl=https://www.biopharmadive.com/news/biotech-ipo-performance-tracker/587604/',\n",
       " '/news/cancer-immunotherapy-decade-keytruda-opdivo-pd1-oncology/725774/',\n",
       " '/news/cancer-immunotherapy-decade-keytruda-opdivo-pd1-oncology/725774/',\n",
       " '/news/biotech-pharma-clinical-trials-watch-2025/736120/',\n",
       " '/news/biotech-pharma-clinical-trials-watch-2025/736120/',\n",
       " '/press-release/',\n",
       " '/press-release/get-started/',\n",
       " '/press-release/20250211-revium-rx-rvrc-completes-acquisition-of-lipovation-ltd/',\n",
       " '/press-release/20250205-avalere-health-launches-new-commitment-to-make-every-patient-possible/',\n",
       " '/press-release/20250203-stable-and-vibrant-psi-cro-announces-15-growth-and-ultra-low-staff-turnov-1/',\n",
       " '/press-release/20250114-new-survey-reveals-pervasive-concerns-about-pharma-supply-chain-security-ri/',\n",
       " '/news/cancer-immunotherapy-decade-keytruda-opdivo-pd1-oncology/725774/',\n",
       " '/news/cancer-immunotherapy-decade-keytruda-opdivo-pd1-oncology/725774/',\n",
       " '/news/biotech-pharma-clinical-trials-watch-2025/736120/',\n",
       " '/news/biotech-pharma-clinical-trials-watch-2025/736120/',\n",
       " '/news/merck-kgaa-springworks-talks-bridgebio-acoramidis-europe-biohaven-troriluzole/739793/',\n",
       " '/news/merck-kgaa-springworks-talks-bridgebio-acoramidis-europe-biohaven-troriluzole/739793/',\n",
       " '/news/vertex-stuart-arbuckle-retire-charlie-wagner-duncan-mckechnie/739746/',\n",
       " '/news/vertex-stuart-arbuckle-retire-charlie-wagner-duncan-mckechnie/739746/',\n",
       " '/news/axsome-teva-patent-settlement-auvelity-generic-launch/739664/',\n",
       " '/news/axsome-teva-patent-settlement-auvelity-generic-launch/739664/',\n",
       " '/news/pliant-idiopathic-pulmonary-fibrosis-study-halt/739653/',\n",
       " '/news/pliant-idiopathic-pulmonary-fibrosis-study-halt/739653/',\n",
       " 'https://www.industrydive.com',\n",
       " 'https://www.linkedin.com/company/biopharma-dive-biotech-and-pharma-news',\n",
       " 'https://www.facebook.com/biopharmadive/',\n",
       " 'https://twitter.com/BioPharmaDive',\n",
       " 'https://www.biopharmadive.com/feeds/news/',\n",
       " '/about/',\n",
       " '/editors/',\n",
       " '/contact/',\n",
       " '/signup/?signup_location=footer-list&signup_path=/news/biotech-ipo-performance-tracker/587604/',\n",
       " '/selfservice/article-licensing/submit/',\n",
       " '/press-release/',\n",
       " '/what-we-are-reading/',\n",
       " '/advertise/',\n",
       " '/press-release/get-started/',\n",
       " '/selfservice/event-listings/contact',\n",
       " 'https://www.healthcaredive.com/',\n",
       " 'https://www.medtechdive.com/',\n",
       " 'https://www.industrydive.com/industries/',\n",
       " 'https://www.techtarget.com/privacy-policy/',\n",
       " 'https://www.techtarget.com/terms-of-use/',\n",
       " 'https://www.industrydive.com/takedown-policy/',\n",
       " '#',\n",
       " '/',\n",
       " '/topic/pharma/',\n",
       " '/topic/biotech/',\n",
       " '/topic/fda/',\n",
       " '/topic/clinical-trials/',\n",
       " '/topic/deals/',\n",
       " '/topic/drug-pricing/',\n",
       " '/topic/gene-therapy/',\n",
       " '/deep-dive/',\n",
       " '/library/',\n",
       " '/events/',\n",
       " '/press-release/']"
      ]
     },
     "execution_count": 18,
     "metadata": {},
     "output_type": "execute_result"
    }
   ],
   "source": []
  },
  {
   "cell_type": "code",
   "execution_count": null,
   "id": "2c649405",
   "metadata": {},
   "outputs": [
    {
     "data": {
      "text/plain": [
       "'Webpage Title:\\nTop 19 most-performing biotech stocks of 2024\\nWebpage Contents:\\nSkip to content\\nSearch for:\\nSuggested Topics:\\nCategories\\nBrowse by resource or article category\\nResources\\nReports\\nBiotech funding tracker\\nBiotech deals tracker\\nBiotech layoff tracker\\nList of 2025 biotech events\\nList of biotech grants\\nList of biotech associations\\nCategories\\nNews and Trends\\nIn-depth\\nBest in Biotech\\nPodcasts\\nOpinion\\nExpert Advice\\nSponsored\\n10 biotech companies to watch in 2025\\nBiotech in 2024: A retrospective\\nSectors\\nBrowse by sector\\nApproaches\\nAntibody\\nArtificial Intelligence\\nCAR-T\\nCell Therapy\\nCRISPR\\nGene editing\\nGene therapy\\nGenomics\\nMicrobiome\\nmRNA Technology\\nT-cells\\nTherapeutic areas\\nAging\\nAlzheimer\\'s\\nCancer\\nDiabetes\\nMental health\\nGrab your free report on 3D organoids and explore their future potential\\nFive biosimilar companies you should know about\\nDrug Development\\nStay informed on the latest drug development updates\\nR&D\\nResearch\\nDrug Discovery\\nClinical trials\\nRegulatory approval\\nBD\\nFunding\\nPartnerships\\nM&A\\nTop biotech startups\\nWorld biotech leaders\\nUSA\\nU.K.\\nFrance\\nGermany\\nConnect with decision-makers and researchers worldwide for collaborative opportunities\\nMore\\nLearn more about Labiotech\\nCompany\\nAbout Us\\nOur Editorial Calendar\\nCareers\\nAbout our parent company Inpart\\nJoin Us\\nContact Us\\nSubscribe to our newsletter\\nAdvertise with us\\nSubscribe\\nSearch for:\\nTop Topics\\nCancer\\nGene therapy\\nArtificial intelligence\\nmRNA technology\\nCRISPR\\nCAR-T\\nCategories\\nResources\\nReports\\nBiotech funding tracker\\nBiotech deals tracker\\nBiotech layoff tracker\\nList of 2025 biotech events\\nList of biotech grants\\nList of biotech associations\\nCategories\\nNews and Trends\\nIn-depth\\nBest in Biotech\\nPodcasts\\nOpinion\\nExpert Advice\\nSponsored\\n10 biotech companies to watch in 2025\\nBiotech in 2024: A retrospective\\nSectors\\nApproaches\\nAntibody\\nArtificial Intelligence\\nCAR-T\\nCell Therapy\\nCRISPR\\nGene editing\\nGene therapy\\nGenomics\\nMicrobiome\\nmRNA Technology\\nT-cells\\nTherapeutic areas\\nAging\\nAlzheimer\\'s\\nCancer\\nDiabetes\\nMental health\\nGrab your free report on 3D organoids and explore their future potential\\nFive biosimilar companies you should know about\\nDrug Development\\nR&D\\nResearch\\nDrug Discovery\\nClinical trials\\nRegulatory approval\\nBD\\nFunding\\nPartnerships\\nM&A\\nTop biotech startups\\nWorld biotech leaders\\nUSA\\nU.K.\\nFrance\\nGermany\\nConnect with decision-makers and researchers worldwide for collaborative opportunities\\nMore\\nCompany\\nAbout Us\\nOur Editorial Calendar\\nCareers\\nAbout our parent company Inpart\\nJoin Us\\nContact Us\\nSubscribe to our newsletter\\nAdvertise with us\\nPodcast\\nReports\\nHome\\nBest in Biotech\\nTop 19 most-performing biotech stocks of 2024\\nTop 19 most-performing biotech stocks of 2024\\nBy\\nJules Adam\\n8\\nminutes\\nmins\\nJanuary 27, 2025\\n8\\nminutes\\nmins\\nShare\\nWhatsApp\\nTwitter\\nLinkedin\\nEmail\\nPhoto credits: Nicholas Cappello\\nNewsletter Signup - Under Article / In Page\\n\"\\n*\\n\" indicates required fields\\nSubscribe to our newsletter to get the latest biotech news!\\nBy clicking this I agree to receive Labiotech\\'s newsletter and understand that my personal data will be processed according to the\\nPrivacy Policy\\n.*\\nBusiness email\\n*\\nEmail\\nThis field is for validation purposes and should be left unchanged.\\n2024 has been\\ndescribed\\nas a year of transition between a couple of rougher years and a potentially brighter period for biotech. While we can only\\nspeculate on what 2025 will be like in the industry\\n, we can still take a look at the companies that have shown more than resilience in 2024. Indeed some biotech stocks recorded spectacular performance this year.\\nNicolas Schmitz, senior manager and strategic market analyst at KBI Biopharma, recently\\nlisted\\nthe top-performing biotech stocks of 2024. Building on his insight, we delve into the standout performers to uncover emerging trends and understand what they might reveal about the industry’s trajectory.\\nTable of contents\\nGeneral overview of biotech stocks in 2024\\nIn 2024, the biotechnology sector exhibited a notable resurgence, overcoming prior challenges and setting a foundation for future growth. Venture capital funding in biotech\\nrose\\nto $28.1 billion from $21.2 billion in 2023, indicating renewed investor confidence. 2024 was also a better year for\\ninitial public offerings\\n(IPOs), and mergers and acquisitions (M&A) of private, venture-backed biotechs saw a significant uptick. However, the year was overall marked by resilience, in a trajectory to go back to more optimistic levels.\\nAmidst this cautious optimism in 2024, a select few biotechs managed to truly stand out in terms of stock performance.\\nA key driver of biotech stock performance in 2024 was regulatory approval, which serves as a key moment for companies in this space. For instance, the\\napproval\\nof Verona Pharma’s Ohtuvayre by the U.S. Food and Drug Administration (FDA) provided a much-needed non-steroid inhaled treatment option for patients with chronic obstructive pulmonary disease (COPD), resulting in a 134% surge in the company’s stock. Regulatory wins like this attract the attention of investors eager to capitalize on these milestones.\\nBreakthrough therapies also played an important role in shaping the biotech landscape this year. Companies developing solutions for unmet medical needs saw significant gains. A notable example is Guardant Health, whose stock rose following Medicare’s decision to\\nreimburse its colon cancer blood test\\n, Guardant Reveal.\\nClinical trial successes continued to drive investor enthusiasm, as positive data often translates into higher market valuations. Companies like Viking Therapeutics, which\\nreported\\npromising progress in its phase 2a trials for an obesity drug candidate, demonstrated how advancements in clinical pipelines can strengthen market confidence and spark stock appreciation.\\nWhile the overall sector showed resilience, certain companies stood out as outliers due to their remarkable stock performance. Bright Minds Biosciences led the pack with a staggering 1,857% year-over-year increase, driven by its progress in developing treatments for neuropsychiatric disorders. Monopar Therapeutics followed, with its stock surging by 1,089%, fueled by advancements in its cancer drug pipeline. Summit Therapeutics also impressed with a 576% increase, tied to the success of its therapeutic programs.\\nSpotlight on the top 3 performing biotech stocks of 2024\\nIn 2024, several biotech companies achieved remarkable stock performance – notably, Bright Minds Biosciences, Monopar Therapeutics, and Summit Therapeutics.\\n\\u200b\\u200bBright Minds Biosciences: A pioneer in psychedelic therapies\\nBright Minds Biosciences is focused on developing next-generation therapies inspired by psychedelics. The company aims to create treatments that retain the therapeutic benefits of psychedelics while minimizing their psychoactive side effects. Bright Minds specializes in precision-designed serotonergic drugs, targeting specific receptor subtypes in the central nervous system (CNS) to treat a range of neurological and psychiatric disorders.\\nSuggested Articles\\nThe radiopharmaceutical revolution: From diagnosis to treatment, oncology and beyond\\nTen first-in-class drugs on track for FDA approval in 2025\\nTen drugs to watch in 2025: will these therapies become blockbusters?\\n2025 predictions: Which trends are set to shape the biotech industry this year?\\nBiotech in 2024: A retrospective\\nAt the core of Bright Minds’ technology is its work on the serotonin 5-HT receptor family, particularly the 5-HT2C receptor. The company’s lead candidate, BMB-101, is a 5-HT2C receptor superagonist designed to address disorders like refractory epilepsy and certain neuropsychiatric conditions. The selective targeting of this receptor subtype offers a promising therapeutic approach, as it avoids activating 5-HT2B receptors, which are linked to potential cardiac risks, and 5-HT2A receptors, responsible for hallucinogenic effects.\\nThe biotech company’s stock performance skyrocketed by an astounding 1,857% in 2024, primarily driven by external market dynamics and its promising pipeline. A major turning point was Lundbeck’s $2.6 billion\\nacquisition\\nof Longboard Pharmaceuticals, which fueled investor enthusiasm. Longboard’s lead candidate, bexicaserin, is a 5-HT2C receptor superagonist, a class of drugs similar to Bright Minds’ BMB-101. This acquisition triggered a growing market interest in 5-HT2C-targeted therapies, elevating Bright Minds’ profile as a leader in this space.\\nInvestors likely drew parallels between the two companies, as both focus on developing therapies targeting the 5-HT2C receptor.\\nAdditionally, after having\\nreported\\npositive phase 1 results for BMB-101 for epilepsy in mid-2023, Bright Minds initiated its\\nphase 2 trials\\nin 2024. The company also\\nsecured\\na $35 million private placement towards the end of 2024.\\nThe growing acceptance of\\npsychedelic-inspired therapies\\nin mainstream medicine also contributed to the stock’s rise. Psychedelics, once stigmatized, are now gaining traction as a legitimate therapeutic modality, particularly in mental health and neurological disorders.\\nMonopar Therapeutics: Marching on several fronts\\nThe company’s pipeline includes treatments designed to improve outcomes for patients undergoing cancer therapy and those affected by rare diseases.\\nMonopar was best known for its lead candidate, Validive (clonidine mucobuccal tablet), a late-stage drug being developed to reduce severe oral mucositis in patients undergoing chemotherapy for head and neck cancers. However, the company\\nannounced\\nthe drug did not meet its efficacy threshold in phase 2b/3 in March 2023.\\nMonopar Therapeutics’ stock surged approximately 1,080% in 2024, driven by two major developments that reinforced investor confidence in the company’s strategy and pipeline.\\nA key milestone was Monopar’s exclusive worldwide\\nlicense agreement\\nwith Alexion Pharmaceuticals to develop ALXN-1840, a late-stage candidate for Wilson disease, a rare genetic disorder that causes copper accumulation in the body, leading to severe organ damage. Wilson disease currently has limited treatment options, and ALXN-1840 represents a significant option to address it.\\nAlongside the ALXN-1840 licensing agreement, Monopar announced the dosing of the first patient in the phase 1 trial of MNPR-101-Lu, a novel radiopharmaceutical treating aggressive solid tumors. This is the candidate Monopar decided to prioritize after Validive’s mitigated results.\\nThis compound combines MNPR-101, a humanized monoclonal antibody that selectively binds to the urokinase plasminogen activator receptor (uPAR), with the radioactive isotope lutetium-177 (Lu-177). uPAR is a receptor overexpressed in various aggressive cancers, including pancreatic, ovarian, triple-negative breast, and colorectal cancers.\\nThis is consistent with the\\nradiopharmaceutical boom\\nthat is currently happening in the industry.\\nSummit Therapeutics: Advancing bispecific antibody therapies\\nSummit Therapeutics’ flagship program centers on ivonescimab, a\\nbispecific antibody\\ndesigned to enhance cancer treatment outcomes by combining two key mechanisms of action: immune checkpoint inhibition and anti-angiogenesis.\\nIvonescimab is a bispecific antibody that simultaneously targets PD-1 (programmed death-1) and VEGF (vascular endothelial growth factor). PD-1 inhibitors, such as Merck’s Keytruda, have become a cornerstone of immunotherapy by blocking the PD-1 protein, which allows cancer cells to evade immune detection. VEGF, on the other hand, promotes tumor angiogenesis, or the formation of new blood vessels, which allows cancer to grow and spread. By targeting both PD-1 and VEGF, ivonescimab boosts immune system activity against tumors while simultaneously cutting off their blood supply.\\nThis dual mechanism gives ivonescimab a significant advantage over traditional single-target therapies, as it addresses two critical processes involved in tumor survival and progression. This approach reflects a broader trend in oncology, where bispecific antibodies are gaining traction for their ability to enhance efficacy by tackling multiple pathways simultaneously.\\nThe biotech’s stock saw a remarkable increase of 576% in 2024, primarily driven by the success of ivonescimab in clinical trials. The company\\npresented\\ndata at the 2024 World Conference on Lung Cancer, showcasing ivonescimab’s superior efficacy in patients with advanced non-small cell lung cancer (NSCLC). Specifically, the trial demonstrated a statistically significant improvement in progression-free survival (PFS) compared to Merck’s Keytruda. Additionally, Summit successfully\\nraised\\n$235 million in a private placement in September 2024.\\nCancer, gene therapy, psychedelics, radiopharmaceuticals… Which will be the top performers of 2025?\\nTaking a look at the different technologies and disease areas the companies with the top-performing biotech stocks of 2024 are focused on, there isn’t a clear trend. Of course, as always cancer is well represented with, for instance, Summit Therapeutics or Cardiff Oncology.\\nGene-related therapies have also driven significant growth among the top-performing stocks in biotech notably with\\nRNA technologies\\nsuch as Benitect’s RNA interference (RNAi) platform.\\nPsychedelics-inspired therapies rise as the unexpected leader with Bright Minds Biosciences leading the way by far in stock performance. Once an enthusiasts-only area of research, the progress biotechs have accomplished to isolate the psychedelics benefits from its hallucinogenic properties is finally tangible. The years to come might be determining for non-hallucinogenic psychedelic drugs.\\nAnother technology that we would see more rarely in the past, radiopharmaceuticals are gaining traction as their safety profiles improve.\\nSimilarly, the success of bispecific antibodies, exemplified by Summit Therapeutics’ ivonescimab, signals a shift in oncology toward therapies that combine multiple mechanisms of action. This innovation addresses the complexity of cancer biology, improving outcomes for patients and broadening the scope of immunotherapy applications. Overall, the key drivers for stock performance are of course the individual successes of companies –\\nclinical trial successes\\n,\\nregulatory approvals\\n, or significant deals. This might be an indicator of which companies will be the top performers in 2025.\\nExplore other topics:\\nClinical trial\\ninvestment\\nRegulatory approval\\nADVERTISEMENT\\nLatest Articles\\n12 ways biotechnology makes the world more sustainable\\nMonoclonal antibodies: are they the key to treating Alzheimer’s disease?\\nPartnering 2030: FME Industries Report\\nTargeting the dark genome to develop new therapies to fight obesity\\nADVERTISEMENT\\nSuggested Articles\\nThe radiopharmaceutical revolution: From diagnosis to treatment, oncology and beyond\\nTen first-in-class drugs on track for FDA approval in 2025\\nTen drugs to watch in 2025: will these therapies become blockbusters?\\n2025 predictions: Which trends are set to shape the biotech industry this year?\\nBiotech in 2024: A retrospective\\nLatest Articles\\n12 ways biotechnology makes the world more sustainable\\nMonoclonal antibodies: are they the key to treating Alzheimer’s disease?\\nPartnering 2030: FME Industries Report\\nTargeting the dark genome to develop new therapies to fight obesity\\nSubscribe to our newsletter\\nGet the latest biotech news directly to your inbox!\\nNewsletter Signup - Footer\\n\"\\n*\\n\" indicates required fields\\nSubscribe to our newsletter to get the latest biotech news!\\nBusiness email\\n*\\nBy clicking this I agree to receive Labiotech\\'s newsletter and understand that my personal data will be processed according to the\\nPrivacy Policy\\n.*\\nComments\\nThis field is for validation purposes and should be left unchanged.\\nAs Europe’s top biotech website for over a decade, Labiotech.eu offers trusted insights and updates for the global life sciences community.\\nSubscribe to our newsletter to get the latest biotech news!\\nSignup now\\nExplore Labiotech\\nBiotech news by sector\\nBiotech news by region\\nBiotech news by company\\nNews and Trends\\nIn Depth\\nBest in Biotech\\nReports\\nPodcast\\nSite Map\\nAbout Labiotech\\nAdvertise with Labiotech.eu\\nSubscribe\\nContact\\nEditorial calendar\\nOur Other Brands\\nInpart\\nFollow Us\\nAs Europe’s top biotech website for over a decade, Labiotech.eu offers trusted insights and updates for the global life sciences community.\\nLabiotech UG - Made with\\nAll Rights Reserved\\nImprint\\nPrivacy Policy\\n\\n'"
      ]
     },
     "execution_count": 13,
     "metadata": {},
     "output_type": "execute_result"
    }
   ],
   "source": [
    "sys_Prompt = \"You are an experience porfolio manager who had a phd in biotech. \""
   ]
  },
  {
   "cell_type": "code",
   "execution_count": null,
   "id": "9d4491ea",
   "metadata": {},
   "outputs": [],
   "source": []
  }
 ],
 "metadata": {
  "kernelspec": {
   "display_name": "llm_udemy",
   "language": "python",
   "name": "python3"
  },
  "language_info": {
   "codemirror_mode": {
    "name": "ipython",
    "version": 3
   },
   "file_extension": ".py",
   "mimetype": "text/x-python",
   "name": "python",
   "nbconvert_exporter": "python",
   "pygments_lexer": "ipython3",
   "version": "3.9.21"
  }
 },
 "nbformat": 4,
 "nbformat_minor": 5
}
